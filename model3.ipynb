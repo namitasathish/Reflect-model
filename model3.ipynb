{
 "cells": [
  {
   "cell_type": "code",
   "execution_count": 3,
   "id": "567463e6",
   "metadata": {},
   "outputs": [
    {
     "name": "stdout",
     "output_type": "stream",
     "text": [
      "Collecting rich\n",
      "  Downloading rich-14.0.0-py3-none-any.whl (243 kB)\n",
      "Requirement already satisfied: typing-extensions<5.0,>=4.0.0 in c:\\users\\namita sathish\\appdata\\roaming\\python\\python310\\site-packages (from rich) (4.13.0)\n",
      "Collecting markdown-it-py>=2.2.0\n",
      "  Downloading markdown_it_py-3.0.0-py3-none-any.whl (87 kB)\n",
      "Requirement already satisfied: pygments<3.0.0,>=2.13.0 in c:\\users\\namita sathish\\appdata\\roaming\\python\\python310\\site-packages (from rich) (2.19.1)\n",
      "Collecting mdurl~=0.1\n",
      "  Downloading mdurl-0.1.2-py3-none-any.whl (10.0 kB)\n",
      "Installing collected packages: mdurl, markdown-it-py, rich\n",
      "Successfully installed markdown-it-py-3.0.0 mdurl-0.1.2 rich-14.0.0\n",
      "Note: you may need to restart the kernel to use updated packages.\n"
     ]
    },
    {
     "name": "stderr",
     "output_type": "stream",
     "text": [
      "  WARNING: The script markdown-it.exe is installed in 'c:\\Users\\Namita Sathish\\AppData\\Local\\Programs\\Python\\Python310\\Scripts' which is not on PATH.\n",
      "  Consider adding this directory to PATH or, if you prefer to suppress this warning, use --no-warn-script-location.\n",
      "WARNING: You are using pip version 21.2.3; however, version 25.1.1 is available.\n",
      "You should consider upgrading via the 'c:\\Users\\Namita Sathish\\AppData\\Local\\Programs\\Python\\Python310\\python.exe -m pip install --upgrade pip' command.\n"
     ]
    }
   ],
   "source": [
    "pip install rich"
   ]
  },
  {
   "cell_type": "code",
   "execution_count": 4,
   "id": "54672aa7",
   "metadata": {},
   "outputs": [],
   "source": [
    "import pandas as pd\n",
    "import numpy as np\n",
    "import re\n",
    "import joblib\n",
    "import datetime\n",
    "import matplotlib.pyplot as plt\n",
    "from collections import defaultdict\n",
    "from sklearn.model_selection import train_test_split\n",
    "from sklearn.feature_extraction.text import TfidfVectorizer\n",
    "from sklearn.linear_model import LogisticRegression\n",
    "from sklearn.metrics import classification_report, accuracy_score\n",
    "from sklearn.preprocessing import LabelEncoder\n",
    "from rich.console import Console\n",
    "from rich.table import Table\n",
    "from rich import box\n",
    "\n",
    "console = Console()"
   ]
  },
  {
   "cell_type": "code",
   "execution_count": 5,
   "id": "51571183",
   "metadata": {},
   "outputs": [],
   "source": [
    "# Load dataset and preprocess\n",
    "df = pd.read_csv('isear.csv')\n",
    "\n",
    "def clean_text(text):\n",
    "    text = str(text).lower()\n",
    "    text = re.sub(r\"[^a-z\\s]\", \"\", text)\n",
    "    text = re.sub(r\"\\s+\", \" \", text).strip()\n",
    "    return text\n",
    "\n",
    "df['clean_content'] = df['content'].apply(clean_text)"
   ]
  },
  {
   "cell_type": "code",
   "execution_count": 6,
   "id": "a2a9b05a",
   "metadata": {},
   "outputs": [],
   "source": [
    "# Encode labels\n",
    "le = LabelEncoder()\n",
    "df['label'] = le.fit_transform(df['sentiment'])"
   ]
  },
  {
   "cell_type": "code",
   "execution_count": 7,
   "id": "0c60f352",
   "metadata": {},
   "outputs": [],
   "source": [
    "# Split and vectorize\n",
    "X_train, X_test, y_train, y_test = train_test_split(\n",
    "    df['clean_content'], df['label'], test_size=0.2, random_state=42, stratify=df['label']\n",
    ")\n",
    "\n",
    "vectorizer = TfidfVectorizer(max_features=5000, ngram_range=(1, 2))\n",
    "X_train_tfidf = vectorizer.fit_transform(X_train)\n",
    "X_test_tfidf = vectorizer.transform(X_test)\n"
   ]
  },
  {
   "cell_type": "code",
   "execution_count": 8,
   "id": "01b246a8",
   "metadata": {},
   "outputs": [
    {
     "data": {
      "text/html": [
       "<style>#sk-container-id-1 {\n",
       "  /* Definition of color scheme common for light and dark mode */\n",
       "  --sklearn-color-text: #000;\n",
       "  --sklearn-color-text-muted: #666;\n",
       "  --sklearn-color-line: gray;\n",
       "  /* Definition of color scheme for unfitted estimators */\n",
       "  --sklearn-color-unfitted-level-0: #fff5e6;\n",
       "  --sklearn-color-unfitted-level-1: #f6e4d2;\n",
       "  --sklearn-color-unfitted-level-2: #ffe0b3;\n",
       "  --sklearn-color-unfitted-level-3: chocolate;\n",
       "  /* Definition of color scheme for fitted estimators */\n",
       "  --sklearn-color-fitted-level-0: #f0f8ff;\n",
       "  --sklearn-color-fitted-level-1: #d4ebff;\n",
       "  --sklearn-color-fitted-level-2: #b3dbfd;\n",
       "  --sklearn-color-fitted-level-3: cornflowerblue;\n",
       "\n",
       "  /* Specific color for light theme */\n",
       "  --sklearn-color-text-on-default-background: var(--sg-text-color, var(--theme-code-foreground, var(--jp-content-font-color1, black)));\n",
       "  --sklearn-color-background: var(--sg-background-color, var(--theme-background, var(--jp-layout-color0, white)));\n",
       "  --sklearn-color-border-box: var(--sg-text-color, var(--theme-code-foreground, var(--jp-content-font-color1, black)));\n",
       "  --sklearn-color-icon: #696969;\n",
       "\n",
       "  @media (prefers-color-scheme: dark) {\n",
       "    /* Redefinition of color scheme for dark theme */\n",
       "    --sklearn-color-text-on-default-background: var(--sg-text-color, var(--theme-code-foreground, var(--jp-content-font-color1, white)));\n",
       "    --sklearn-color-background: var(--sg-background-color, var(--theme-background, var(--jp-layout-color0, #111)));\n",
       "    --sklearn-color-border-box: var(--sg-text-color, var(--theme-code-foreground, var(--jp-content-font-color1, white)));\n",
       "    --sklearn-color-icon: #878787;\n",
       "  }\n",
       "}\n",
       "\n",
       "#sk-container-id-1 {\n",
       "  color: var(--sklearn-color-text);\n",
       "}\n",
       "\n",
       "#sk-container-id-1 pre {\n",
       "  padding: 0;\n",
       "}\n",
       "\n",
       "#sk-container-id-1 input.sk-hidden--visually {\n",
       "  border: 0;\n",
       "  clip: rect(1px 1px 1px 1px);\n",
       "  clip: rect(1px, 1px, 1px, 1px);\n",
       "  height: 1px;\n",
       "  margin: -1px;\n",
       "  overflow: hidden;\n",
       "  padding: 0;\n",
       "  position: absolute;\n",
       "  width: 1px;\n",
       "}\n",
       "\n",
       "#sk-container-id-1 div.sk-dashed-wrapped {\n",
       "  border: 1px dashed var(--sklearn-color-line);\n",
       "  margin: 0 0.4em 0.5em 0.4em;\n",
       "  box-sizing: border-box;\n",
       "  padding-bottom: 0.4em;\n",
       "  background-color: var(--sklearn-color-background);\n",
       "}\n",
       "\n",
       "#sk-container-id-1 div.sk-container {\n",
       "  /* jupyter's `normalize.less` sets `[hidden] { display: none; }`\n",
       "     but bootstrap.min.css set `[hidden] { display: none !important; }`\n",
       "     so we also need the `!important` here to be able to override the\n",
       "     default hidden behavior on the sphinx rendered scikit-learn.org.\n",
       "     See: https://github.com/scikit-learn/scikit-learn/issues/21755 */\n",
       "  display: inline-block !important;\n",
       "  position: relative;\n",
       "}\n",
       "\n",
       "#sk-container-id-1 div.sk-text-repr-fallback {\n",
       "  display: none;\n",
       "}\n",
       "\n",
       "div.sk-parallel-item,\n",
       "div.sk-serial,\n",
       "div.sk-item {\n",
       "  /* draw centered vertical line to link estimators */\n",
       "  background-image: linear-gradient(var(--sklearn-color-text-on-default-background), var(--sklearn-color-text-on-default-background));\n",
       "  background-size: 2px 100%;\n",
       "  background-repeat: no-repeat;\n",
       "  background-position: center center;\n",
       "}\n",
       "\n",
       "/* Parallel-specific style estimator block */\n",
       "\n",
       "#sk-container-id-1 div.sk-parallel-item::after {\n",
       "  content: \"\";\n",
       "  width: 100%;\n",
       "  border-bottom: 2px solid var(--sklearn-color-text-on-default-background);\n",
       "  flex-grow: 1;\n",
       "}\n",
       "\n",
       "#sk-container-id-1 div.sk-parallel {\n",
       "  display: flex;\n",
       "  align-items: stretch;\n",
       "  justify-content: center;\n",
       "  background-color: var(--sklearn-color-background);\n",
       "  position: relative;\n",
       "}\n",
       "\n",
       "#sk-container-id-1 div.sk-parallel-item {\n",
       "  display: flex;\n",
       "  flex-direction: column;\n",
       "}\n",
       "\n",
       "#sk-container-id-1 div.sk-parallel-item:first-child::after {\n",
       "  align-self: flex-end;\n",
       "  width: 50%;\n",
       "}\n",
       "\n",
       "#sk-container-id-1 div.sk-parallel-item:last-child::after {\n",
       "  align-self: flex-start;\n",
       "  width: 50%;\n",
       "}\n",
       "\n",
       "#sk-container-id-1 div.sk-parallel-item:only-child::after {\n",
       "  width: 0;\n",
       "}\n",
       "\n",
       "/* Serial-specific style estimator block */\n",
       "\n",
       "#sk-container-id-1 div.sk-serial {\n",
       "  display: flex;\n",
       "  flex-direction: column;\n",
       "  align-items: center;\n",
       "  background-color: var(--sklearn-color-background);\n",
       "  padding-right: 1em;\n",
       "  padding-left: 1em;\n",
       "}\n",
       "\n",
       "\n",
       "/* Toggleable style: style used for estimator/Pipeline/ColumnTransformer box that is\n",
       "clickable and can be expanded/collapsed.\n",
       "- Pipeline and ColumnTransformer use this feature and define the default style\n",
       "- Estimators will overwrite some part of the style using the `sk-estimator` class\n",
       "*/\n",
       "\n",
       "/* Pipeline and ColumnTransformer style (default) */\n",
       "\n",
       "#sk-container-id-1 div.sk-toggleable {\n",
       "  /* Default theme specific background. It is overwritten whether we have a\n",
       "  specific estimator or a Pipeline/ColumnTransformer */\n",
       "  background-color: var(--sklearn-color-background);\n",
       "}\n",
       "\n",
       "/* Toggleable label */\n",
       "#sk-container-id-1 label.sk-toggleable__label {\n",
       "  cursor: pointer;\n",
       "  display: flex;\n",
       "  width: 100%;\n",
       "  margin-bottom: 0;\n",
       "  padding: 0.5em;\n",
       "  box-sizing: border-box;\n",
       "  text-align: center;\n",
       "  align-items: start;\n",
       "  justify-content: space-between;\n",
       "  gap: 0.5em;\n",
       "}\n",
       "\n",
       "#sk-container-id-1 label.sk-toggleable__label .caption {\n",
       "  font-size: 0.6rem;\n",
       "  font-weight: lighter;\n",
       "  color: var(--sklearn-color-text-muted);\n",
       "}\n",
       "\n",
       "#sk-container-id-1 label.sk-toggleable__label-arrow:before {\n",
       "  /* Arrow on the left of the label */\n",
       "  content: \"▸\";\n",
       "  float: left;\n",
       "  margin-right: 0.25em;\n",
       "  color: var(--sklearn-color-icon);\n",
       "}\n",
       "\n",
       "#sk-container-id-1 label.sk-toggleable__label-arrow:hover:before {\n",
       "  color: var(--sklearn-color-text);\n",
       "}\n",
       "\n",
       "/* Toggleable content - dropdown */\n",
       "\n",
       "#sk-container-id-1 div.sk-toggleable__content {\n",
       "  max-height: 0;\n",
       "  max-width: 0;\n",
       "  overflow: hidden;\n",
       "  text-align: left;\n",
       "  /* unfitted */\n",
       "  background-color: var(--sklearn-color-unfitted-level-0);\n",
       "}\n",
       "\n",
       "#sk-container-id-1 div.sk-toggleable__content.fitted {\n",
       "  /* fitted */\n",
       "  background-color: var(--sklearn-color-fitted-level-0);\n",
       "}\n",
       "\n",
       "#sk-container-id-1 div.sk-toggleable__content pre {\n",
       "  margin: 0.2em;\n",
       "  border-radius: 0.25em;\n",
       "  color: var(--sklearn-color-text);\n",
       "  /* unfitted */\n",
       "  background-color: var(--sklearn-color-unfitted-level-0);\n",
       "}\n",
       "\n",
       "#sk-container-id-1 div.sk-toggleable__content.fitted pre {\n",
       "  /* unfitted */\n",
       "  background-color: var(--sklearn-color-fitted-level-0);\n",
       "}\n",
       "\n",
       "#sk-container-id-1 input.sk-toggleable__control:checked~div.sk-toggleable__content {\n",
       "  /* Expand drop-down */\n",
       "  max-height: 200px;\n",
       "  max-width: 100%;\n",
       "  overflow: auto;\n",
       "}\n",
       "\n",
       "#sk-container-id-1 input.sk-toggleable__control:checked~label.sk-toggleable__label-arrow:before {\n",
       "  content: \"▾\";\n",
       "}\n",
       "\n",
       "/* Pipeline/ColumnTransformer-specific style */\n",
       "\n",
       "#sk-container-id-1 div.sk-label input.sk-toggleable__control:checked~label.sk-toggleable__label {\n",
       "  color: var(--sklearn-color-text);\n",
       "  background-color: var(--sklearn-color-unfitted-level-2);\n",
       "}\n",
       "\n",
       "#sk-container-id-1 div.sk-label.fitted input.sk-toggleable__control:checked~label.sk-toggleable__label {\n",
       "  background-color: var(--sklearn-color-fitted-level-2);\n",
       "}\n",
       "\n",
       "/* Estimator-specific style */\n",
       "\n",
       "/* Colorize estimator box */\n",
       "#sk-container-id-1 div.sk-estimator input.sk-toggleable__control:checked~label.sk-toggleable__label {\n",
       "  /* unfitted */\n",
       "  background-color: var(--sklearn-color-unfitted-level-2);\n",
       "}\n",
       "\n",
       "#sk-container-id-1 div.sk-estimator.fitted input.sk-toggleable__control:checked~label.sk-toggleable__label {\n",
       "  /* fitted */\n",
       "  background-color: var(--sklearn-color-fitted-level-2);\n",
       "}\n",
       "\n",
       "#sk-container-id-1 div.sk-label label.sk-toggleable__label,\n",
       "#sk-container-id-1 div.sk-label label {\n",
       "  /* The background is the default theme color */\n",
       "  color: var(--sklearn-color-text-on-default-background);\n",
       "}\n",
       "\n",
       "/* On hover, darken the color of the background */\n",
       "#sk-container-id-1 div.sk-label:hover label.sk-toggleable__label {\n",
       "  color: var(--sklearn-color-text);\n",
       "  background-color: var(--sklearn-color-unfitted-level-2);\n",
       "}\n",
       "\n",
       "/* Label box, darken color on hover, fitted */\n",
       "#sk-container-id-1 div.sk-label.fitted:hover label.sk-toggleable__label.fitted {\n",
       "  color: var(--sklearn-color-text);\n",
       "  background-color: var(--sklearn-color-fitted-level-2);\n",
       "}\n",
       "\n",
       "/* Estimator label */\n",
       "\n",
       "#sk-container-id-1 div.sk-label label {\n",
       "  font-family: monospace;\n",
       "  font-weight: bold;\n",
       "  display: inline-block;\n",
       "  line-height: 1.2em;\n",
       "}\n",
       "\n",
       "#sk-container-id-1 div.sk-label-container {\n",
       "  text-align: center;\n",
       "}\n",
       "\n",
       "/* Estimator-specific */\n",
       "#sk-container-id-1 div.sk-estimator {\n",
       "  font-family: monospace;\n",
       "  border: 1px dotted var(--sklearn-color-border-box);\n",
       "  border-radius: 0.25em;\n",
       "  box-sizing: border-box;\n",
       "  margin-bottom: 0.5em;\n",
       "  /* unfitted */\n",
       "  background-color: var(--sklearn-color-unfitted-level-0);\n",
       "}\n",
       "\n",
       "#sk-container-id-1 div.sk-estimator.fitted {\n",
       "  /* fitted */\n",
       "  background-color: var(--sklearn-color-fitted-level-0);\n",
       "}\n",
       "\n",
       "/* on hover */\n",
       "#sk-container-id-1 div.sk-estimator:hover {\n",
       "  /* unfitted */\n",
       "  background-color: var(--sklearn-color-unfitted-level-2);\n",
       "}\n",
       "\n",
       "#sk-container-id-1 div.sk-estimator.fitted:hover {\n",
       "  /* fitted */\n",
       "  background-color: var(--sklearn-color-fitted-level-2);\n",
       "}\n",
       "\n",
       "/* Specification for estimator info (e.g. \"i\" and \"?\") */\n",
       "\n",
       "/* Common style for \"i\" and \"?\" */\n",
       "\n",
       ".sk-estimator-doc-link,\n",
       "a:link.sk-estimator-doc-link,\n",
       "a:visited.sk-estimator-doc-link {\n",
       "  float: right;\n",
       "  font-size: smaller;\n",
       "  line-height: 1em;\n",
       "  font-family: monospace;\n",
       "  background-color: var(--sklearn-color-background);\n",
       "  border-radius: 1em;\n",
       "  height: 1em;\n",
       "  width: 1em;\n",
       "  text-decoration: none !important;\n",
       "  margin-left: 0.5em;\n",
       "  text-align: center;\n",
       "  /* unfitted */\n",
       "  border: var(--sklearn-color-unfitted-level-1) 1pt solid;\n",
       "  color: var(--sklearn-color-unfitted-level-1);\n",
       "}\n",
       "\n",
       ".sk-estimator-doc-link.fitted,\n",
       "a:link.sk-estimator-doc-link.fitted,\n",
       "a:visited.sk-estimator-doc-link.fitted {\n",
       "  /* fitted */\n",
       "  border: var(--sklearn-color-fitted-level-1) 1pt solid;\n",
       "  color: var(--sklearn-color-fitted-level-1);\n",
       "}\n",
       "\n",
       "/* On hover */\n",
       "div.sk-estimator:hover .sk-estimator-doc-link:hover,\n",
       ".sk-estimator-doc-link:hover,\n",
       "div.sk-label-container:hover .sk-estimator-doc-link:hover,\n",
       ".sk-estimator-doc-link:hover {\n",
       "  /* unfitted */\n",
       "  background-color: var(--sklearn-color-unfitted-level-3);\n",
       "  color: var(--sklearn-color-background);\n",
       "  text-decoration: none;\n",
       "}\n",
       "\n",
       "div.sk-estimator.fitted:hover .sk-estimator-doc-link.fitted:hover,\n",
       ".sk-estimator-doc-link.fitted:hover,\n",
       "div.sk-label-container:hover .sk-estimator-doc-link.fitted:hover,\n",
       ".sk-estimator-doc-link.fitted:hover {\n",
       "  /* fitted */\n",
       "  background-color: var(--sklearn-color-fitted-level-3);\n",
       "  color: var(--sklearn-color-background);\n",
       "  text-decoration: none;\n",
       "}\n",
       "\n",
       "/* Span, style for the box shown on hovering the info icon */\n",
       ".sk-estimator-doc-link span {\n",
       "  display: none;\n",
       "  z-index: 9999;\n",
       "  position: relative;\n",
       "  font-weight: normal;\n",
       "  right: .2ex;\n",
       "  padding: .5ex;\n",
       "  margin: .5ex;\n",
       "  width: min-content;\n",
       "  min-width: 20ex;\n",
       "  max-width: 50ex;\n",
       "  color: var(--sklearn-color-text);\n",
       "  box-shadow: 2pt 2pt 4pt #999;\n",
       "  /* unfitted */\n",
       "  background: var(--sklearn-color-unfitted-level-0);\n",
       "  border: .5pt solid var(--sklearn-color-unfitted-level-3);\n",
       "}\n",
       "\n",
       ".sk-estimator-doc-link.fitted span {\n",
       "  /* fitted */\n",
       "  background: var(--sklearn-color-fitted-level-0);\n",
       "  border: var(--sklearn-color-fitted-level-3);\n",
       "}\n",
       "\n",
       ".sk-estimator-doc-link:hover span {\n",
       "  display: block;\n",
       "}\n",
       "\n",
       "/* \"?\"-specific style due to the `<a>` HTML tag */\n",
       "\n",
       "#sk-container-id-1 a.estimator_doc_link {\n",
       "  float: right;\n",
       "  font-size: 1rem;\n",
       "  line-height: 1em;\n",
       "  font-family: monospace;\n",
       "  background-color: var(--sklearn-color-background);\n",
       "  border-radius: 1rem;\n",
       "  height: 1rem;\n",
       "  width: 1rem;\n",
       "  text-decoration: none;\n",
       "  /* unfitted */\n",
       "  color: var(--sklearn-color-unfitted-level-1);\n",
       "  border: var(--sklearn-color-unfitted-level-1) 1pt solid;\n",
       "}\n",
       "\n",
       "#sk-container-id-1 a.estimator_doc_link.fitted {\n",
       "  /* fitted */\n",
       "  border: var(--sklearn-color-fitted-level-1) 1pt solid;\n",
       "  color: var(--sklearn-color-fitted-level-1);\n",
       "}\n",
       "\n",
       "/* On hover */\n",
       "#sk-container-id-1 a.estimator_doc_link:hover {\n",
       "  /* unfitted */\n",
       "  background-color: var(--sklearn-color-unfitted-level-3);\n",
       "  color: var(--sklearn-color-background);\n",
       "  text-decoration: none;\n",
       "}\n",
       "\n",
       "#sk-container-id-1 a.estimator_doc_link.fitted:hover {\n",
       "  /* fitted */\n",
       "  background-color: var(--sklearn-color-fitted-level-3);\n",
       "}\n",
       "</style><div id=\"sk-container-id-1\" class=\"sk-top-container\"><div class=\"sk-text-repr-fallback\"><pre>LogisticRegression(max_iter=500)</pre><b>In a Jupyter environment, please rerun this cell to show the HTML representation or trust the notebook. <br />On GitHub, the HTML representation is unable to render, please try loading this page with nbviewer.org.</b></div><div class=\"sk-container\" hidden><div class=\"sk-item\"><div class=\"sk-estimator fitted sk-toggleable\"><input class=\"sk-toggleable__control sk-hidden--visually\" id=\"sk-estimator-id-1\" type=\"checkbox\" checked><label for=\"sk-estimator-id-1\" class=\"sk-toggleable__label fitted sk-toggleable__label-arrow\"><div><div>LogisticRegression</div></div><div><a class=\"sk-estimator-doc-link fitted\" rel=\"noreferrer\" target=\"_blank\" href=\"https://scikit-learn.org/1.6/modules/generated/sklearn.linear_model.LogisticRegression.html\">?<span>Documentation for LogisticRegression</span></a><span class=\"sk-estimator-doc-link fitted\">i<span>Fitted</span></span></div></label><div class=\"sk-toggleable__content fitted\"><pre>LogisticRegression(max_iter=500)</pre></div> </div></div></div></div>"
      ],
      "text/plain": [
       "LogisticRegression(max_iter=500)"
      ]
     },
     "execution_count": 8,
     "metadata": {},
     "output_type": "execute_result"
    }
   ],
   "source": [
    "# Train model\n",
    "model = LogisticRegression(max_iter=500)\n",
    "model.fit(X_train_tfidf, y_train)"
   ]
  },
  {
   "cell_type": "code",
   "execution_count": 9,
   "id": "45bbace6",
   "metadata": {},
   "outputs": [
    {
     "data": {
      "text/html": [
       "<pre style=\"white-space:pre;overflow-x:auto;line-height:normal;font-family:Menlo,'DejaVu Sans Mono',consolas,'Courier New',monospace\"><span style=\"color: #008000; text-decoration-color: #008000; font-weight: bold\">Accuracy:</span> <span style=\"color: #008080; text-decoration-color: #008080; font-weight: bold\">0.848698099929627</span>\n",
       "</pre>\n"
      ],
      "text/plain": [
       "\u001b[1;32mAccuracy:\u001b[0m \u001b[1;36m0.848698099929627\u001b[0m\n"
      ]
     },
     "metadata": {},
     "output_type": "display_data"
    },
    {
     "data": {
      "text/html": [
       "<pre style=\"white-space:pre;overflow-x:auto;line-height:normal;font-family:Menlo,'DejaVu Sans Mono',consolas,'Courier New',monospace\">\n",
       "<span style=\"color: #008080; text-decoration-color: #008080; font-weight: bold\">Classification Report:</span>\n",
       "               precision    recall  f1-score   support\n",
       "\n",
       "       anger       <span style=\"color: #008080; text-decoration-color: #008080; font-weight: bold\">0.86</span>      <span style=\"color: #008080; text-decoration-color: #008080; font-weight: bold\">0.86</span>      <span style=\"color: #008080; text-decoration-color: #008080; font-weight: bold\">0.86</span>       <span style=\"color: #008080; text-decoration-color: #008080; font-weight: bold\">340</span>\n",
       "        fear       <span style=\"color: #008080; text-decoration-color: #008080; font-weight: bold\">0.81</span>      <span style=\"color: #008080; text-decoration-color: #008080; font-weight: bold\">0.92</span>      <span style=\"color: #008080; text-decoration-color: #008080; font-weight: bold\">0.86</span>       <span style=\"color: #008080; text-decoration-color: #008080; font-weight: bold\">451</span>\n",
       "         joy       <span style=\"color: #008080; text-decoration-color: #008080; font-weight: bold\">0.94</span>      <span style=\"color: #008080; text-decoration-color: #008080; font-weight: bold\">0.85</span>      <span style=\"color: #008080; text-decoration-color: #008080; font-weight: bold\">0.89</span>       <span style=\"color: #008080; text-decoration-color: #008080; font-weight: bold\">323</span>\n",
       "     sadness       <span style=\"color: #008080; text-decoration-color: #008080; font-weight: bold\">0.82</span>      <span style=\"color: #008080; text-decoration-color: #008080; font-weight: bold\">0.74</span>      <span style=\"color: #008080; text-decoration-color: #008080; font-weight: bold\">0.78</span>       <span style=\"color: #008080; text-decoration-color: #008080; font-weight: bold\">307</span>\n",
       "\n",
       "    accuracy                           <span style=\"color: #008080; text-decoration-color: #008080; font-weight: bold\">0.85</span>      <span style=\"color: #008080; text-decoration-color: #008080; font-weight: bold\">1421</span>\n",
       "   macro avg       <span style=\"color: #008080; text-decoration-color: #008080; font-weight: bold\">0.86</span>      <span style=\"color: #008080; text-decoration-color: #008080; font-weight: bold\">0.84</span>      <span style=\"color: #008080; text-decoration-color: #008080; font-weight: bold\">0.85</span>      <span style=\"color: #008080; text-decoration-color: #008080; font-weight: bold\">1421</span>\n",
       "weighted avg       <span style=\"color: #008080; text-decoration-color: #008080; font-weight: bold\">0.85</span>      <span style=\"color: #008080; text-decoration-color: #008080; font-weight: bold\">0.85</span>      <span style=\"color: #008080; text-decoration-color: #008080; font-weight: bold\">0.85</span>      <span style=\"color: #008080; text-decoration-color: #008080; font-weight: bold\">1421</span>\n",
       "\n",
       "</pre>\n"
      ],
      "text/plain": [
       "\n",
       "\u001b[1;36mClassification Report:\u001b[0m\n",
       "               precision    recall  f1-score   support\n",
       "\n",
       "       anger       \u001b[1;36m0.86\u001b[0m      \u001b[1;36m0.86\u001b[0m      \u001b[1;36m0.86\u001b[0m       \u001b[1;36m340\u001b[0m\n",
       "        fear       \u001b[1;36m0.81\u001b[0m      \u001b[1;36m0.92\u001b[0m      \u001b[1;36m0.86\u001b[0m       \u001b[1;36m451\u001b[0m\n",
       "         joy       \u001b[1;36m0.94\u001b[0m      \u001b[1;36m0.85\u001b[0m      \u001b[1;36m0.89\u001b[0m       \u001b[1;36m323\u001b[0m\n",
       "     sadness       \u001b[1;36m0.82\u001b[0m      \u001b[1;36m0.74\u001b[0m      \u001b[1;36m0.78\u001b[0m       \u001b[1;36m307\u001b[0m\n",
       "\n",
       "    accuracy                           \u001b[1;36m0.85\u001b[0m      \u001b[1;36m1421\u001b[0m\n",
       "   macro avg       \u001b[1;36m0.86\u001b[0m      \u001b[1;36m0.84\u001b[0m      \u001b[1;36m0.85\u001b[0m      \u001b[1;36m1421\u001b[0m\n",
       "weighted avg       \u001b[1;36m0.85\u001b[0m      \u001b[1;36m0.85\u001b[0m      \u001b[1;36m0.85\u001b[0m      \u001b[1;36m1421\u001b[0m\n",
       "\n"
      ]
     },
     "metadata": {},
     "output_type": "display_data"
    }
   ],
   "source": [
    "# Evaluate\n",
    "y_pred = model.predict(X_test_tfidf)\n",
    "console.print(\"[bold green]Accuracy:[/bold green]\", accuracy_score(y_test, y_pred))\n",
    "console.print(\"\\n[bold cyan]Classification Report:[/bold cyan]\\n\", classification_report(y_test, y_pred, target_names=le.classes_))"
   ]
  },
  {
   "cell_type": "code",
   "execution_count": 10,
   "id": "d83ff2df",
   "metadata": {},
   "outputs": [],
   "source": [
    "# Mood score map\n",
    "score_map = {\n",
    "    'joy': 80,\n",
    "    'neutral': 0,\n",
    "    'fear': -60,\n",
    "    'anger': -80,\n",
    "    'sadness': -70,\n",
    "    'disgust': -60,\n",
    "    'shame': -90,\n",
    "    'guilt': -50\n",
    "}"
   ]
  },
  {
   "cell_type": "code",
   "execution_count": 11,
   "id": "aefd29f2",
   "metadata": {},
   "outputs": [],
   "source": [
    "def predict_mood_score(text):\n",
    "    cleaned = clean_text(text)\n",
    "    vec = vectorizer.transform([cleaned])\n",
    "    pred_label = model.predict(vec)[0]\n",
    "    pred_emotion = le.inverse_transform([pred_label])[0]\n",
    "    mood_score = score_map.get(pred_emotion, 0)\n",
    "    return pred_emotion, mood_score\n",
    "\n",
    "# Save models\n",
    "joblib.dump(model, 'mood_model.pkl')\n",
    "joblib.dump(vectorizer, 'tfidf_vectorizer.pkl')\n",
    "joblib.dump(le, 'label_encoder.pkl')\n",
    "\n",
    "journal_data = defaultdict(list)\n"
   ]
  },
  {
   "cell_type": "code",
   "execution_count": 12,
   "id": "3713e80c",
   "metadata": {},
   "outputs": [],
   "source": [
    "def explain_mood_score(score):\n",
    "    if score >= 50:\n",
    "        return \"You seem to be in a positive mood.\"\n",
    "    elif 0 <= score < 50:\n",
    "        return \"Your mood is neutral to slightly positive.\"\n",
    "    else:\n",
    "        return \"Your mood appears low. Consider self-care or seeking support.\""
   ]
  },
  {
   "cell_type": "code",
   "execution_count": 13,
   "id": "0babdefa",
   "metadata": {},
   "outputs": [],
   "source": [
    "def add_journal_entry(entry_text):\n",
    "    timestamp = datetime.datetime.now()\n",
    "    date_str = timestamp.date().isoformat()\n",
    "    emotion, score = predict_mood_score(entry_text)\n",
    "    journal_data[date_str].append({'timestamp': timestamp, 'text': entry_text, 'emotion': emotion, 'score': score})\n",
    "\n",
    "    scores_today = [e['score'] for e in journal_data[date_str]]\n",
    "    avg_score = sum(scores_today) / len(scores_today)\n",
    "\n",
    "    explanation = explain_mood_score(avg_score)\n",
    "\n",
    "    console.print(f\"\\n[bold yellow]Entry added.[/bold yellow] Emotion: [green]{emotion}[/green], Mood Score: [bold]{score}[/bold]\")\n",
    "    console.print(f\"Today's average mood score: [bold]{avg_score:.2f}[/bold] — {explanation}\\n\")\n",
    "\n",
    "    check_mood_alert()"
   ]
  },
  {
   "cell_type": "code",
   "execution_count": 14,
   "id": "eeac572d",
   "metadata": {},
   "outputs": [],
   "source": [
    "\n",
    "def check_mood_alert(threshold=-40, days=3):\n",
    "    dates = sorted(journal_data.keys())[-days:]\n",
    "    if len(dates) < days:\n",
    "        return\n",
    "\n",
    "    avg_scores = []\n",
    "    for d in dates:\n",
    "        scores = [e['score'] for e in journal_data[d]]\n",
    "        avg_scores.append(sum(scores)/len(scores))\n",
    "\n",
    "    if all(s < threshold for s in avg_scores):\n",
    "        console.print(\"[bold red]!!! ALERT:[/bold red] You've had consistently low mood scores for the past few days.\")\n",
    "        print_recommended_resources()"
   ]
  },
  {
   "cell_type": "code",
   "execution_count": 15,
   "id": "a55a1914",
   "metadata": {},
   "outputs": [],
   "source": [
    "def print_recommended_resources():\n",
    "    resources = [\n",
    "        {\"name\": \"National Helpline\", \"link\": \"tel:123-456-7890\"},\n",
    "        {\"name\": \"Meditation App\", \"link\": \"https://www.headspace.com\"},\n",
    "        {\"name\": \"Self-Help Articles\", \"link\": \"https://www.psychologytoday.com/us/blog\"},\n",
    "        {\"name\": \"Counseling Center\", \"link\": \"https://www.betterhelp.com\"}\n",
    "    ]\n",
    "    table = Table(title=\"Recommended Resources\", box=box.SIMPLE)\n",
    "    table.add_column(\"Name\", style=\"cyan\")\n",
    "    table.add_column(\"Link\", style=\"magenta\")\n",
    "    for r in resources:\n",
    "        table.add_row(r['name'], r['link'])\n",
    "    console.print(table)"
   ]
  },
  {
   "cell_type": "code",
   "execution_count": 16,
   "id": "6886753c",
   "metadata": {},
   "outputs": [],
   "source": [
    "def plot_mood_trend():\n",
    "    if not journal_data:\n",
    "        console.print(\"[bold red]No journal entries to plot.[/bold red]\")\n",
    "        return\n",
    "\n",
    "    all_entries = []\n",
    "    for day_entries in journal_data.values():\n",
    "        all_entries.extend(day_entries)\n",
    "\n",
    "    all_entries.sort(key=lambda x: x['timestamp'])\n",
    "    times = [e['timestamp'] for e in all_entries]\n",
    "    scores = [e['score'] for e in all_entries]\n",
    "\n",
    "    plt.figure(figsize=(10, 5))\n",
    "    plt.plot(times, scores, marker='o', linestyle='-', color='blue')\n",
    "    plt.axhline(0, color='gray', linestyle='--')\n",
    "    plt.title(\"Mood Score per Journal Entry\")\n",
    "    plt.xlabel(\"Timestamp\")\n",
    "    plt.ylabel(\"Mood Score\")\n",
    "    plt.xticks(rotation=45)\n",
    "    plt.tight_layout()\n",
    "    plt.show()"
   ]
  },
  {
   "cell_type": "code",
   "execution_count": 17,
   "id": "e84aed06",
   "metadata": {},
   "outputs": [],
   "source": [
    "def view_entries():\n",
    "    table = Table(title=\"Journal Entries\", box=box.MINIMAL_DOUBLE_HEAD)\n",
    "    table.add_column(\"Date & Time\", style=\"dim\")\n",
    "    table.add_column(\"Emotion\", style=\"green\")\n",
    "    table.add_column(\"Mood Score\", justify=\"right\")\n",
    "    table.add_column(\"Entry Snippet\", style=\"cyan\")\n",
    "\n",
    "    for day_entries in journal_data.values():\n",
    "        for entry in day_entries:\n",
    "            snippet = entry['text'][:50] + ('...' if len(entry['text']) > 50 else '')\n",
    "            table.add_row(str(entry['timestamp']), entry['emotion'], str(entry['score']), snippet)\n",
    "    console.print(table)"
   ]
  },
  {
   "cell_type": "code",
   "execution_count": 20,
   "id": "53faadd3",
   "metadata": {},
   "outputs": [
    {
     "data": {
      "text/html": [
       "<pre style=\"white-space:pre;overflow-x:auto;line-height:normal;font-family:Menlo,'DejaVu Sans Mono',consolas,'Courier New',monospace\">\n",
       "<span style=\"color: #808000; text-decoration-color: #808000; font-weight: bold\">Entry added.</span> Emotion: <span style=\"color: #008000; text-decoration-color: #008000\">joy</span>, Mood Score: <span style=\"color: #008080; text-decoration-color: #008080; font-weight: bold\">80</span>\n",
       "</pre>\n"
      ],
      "text/plain": [
       "\n",
       "\u001b[1;33mEntry added.\u001b[0m Emotion: \u001b[32mjoy\u001b[0m, Mood Score: \u001b[1;36m80\u001b[0m\n"
      ]
     },
     "metadata": {},
     "output_type": "display_data"
    },
    {
     "data": {
      "text/html": [
       "<pre style=\"white-space:pre;overflow-x:auto;line-height:normal;font-family:Menlo,'DejaVu Sans Mono',consolas,'Courier New',monospace\">Today's average mood score: <span style=\"color: #008080; text-decoration-color: #008080; font-weight: bold\">8.33</span> — Your mood is neutral to slightly positive.\n",
       "\n",
       "</pre>\n"
      ],
      "text/plain": [
       "Today's average mood score: \u001b[1;36m8.33\u001b[0m — Your mood is neutral to slightly positive.\n",
       "\n"
      ]
     },
     "metadata": {},
     "output_type": "display_data"
    },
    {
     "data": {
      "text/html": [
       "<pre style=\"white-space:pre;overflow-x:auto;line-height:normal;font-family:Menlo,'DejaVu Sans Mono',consolas,'Courier New',monospace\">\n",
       "<span style=\"color: #808000; text-decoration-color: #808000; font-weight: bold\">Entry added.</span> Emotion: <span style=\"color: #008000; text-decoration-color: #008000\">fear</span>, Mood Score: <span style=\"color: #008080; text-decoration-color: #008080; font-weight: bold\">-60</span>\n",
       "</pre>\n"
      ],
      "text/plain": [
       "\n",
       "\u001b[1;33mEntry added.\u001b[0m Emotion: \u001b[32mfear\u001b[0m, Mood Score: \u001b[1;36m-60\u001b[0m\n"
      ]
     },
     "metadata": {},
     "output_type": "display_data"
    },
    {
     "data": {
      "text/html": [
       "<pre style=\"white-space:pre;overflow-x:auto;line-height:normal;font-family:Menlo,'DejaVu Sans Mono',consolas,'Courier New',monospace\">Today's average mood score: <span style=\"color: #008080; text-decoration-color: #008080; font-weight: bold\">-1.43</span> — Your mood appears low. Consider self-care or seeking support.\n",
       "\n",
       "</pre>\n"
      ],
      "text/plain": [
       "Today's average mood score: \u001b[1;36m-1.43\u001b[0m — Your mood appears low. Consider self-care or seeking support.\n",
       "\n"
      ]
     },
     "metadata": {},
     "output_type": "display_data"
    },
    {
     "data": {
      "text/html": [
       "<pre style=\"white-space:pre;overflow-x:auto;line-height:normal;font-family:Menlo,'DejaVu Sans Mono',consolas,'Courier New',monospace\">\n",
       "<span style=\"color: #808000; text-decoration-color: #808000; font-weight: bold\">Entry added.</span> Emotion: <span style=\"color: #008000; text-decoration-color: #008000\">sadness</span>, Mood Score: <span style=\"color: #008080; text-decoration-color: #008080; font-weight: bold\">-70</span>\n",
       "</pre>\n"
      ],
      "text/plain": [
       "\n",
       "\u001b[1;33mEntry added.\u001b[0m Emotion: \u001b[32msadness\u001b[0m, Mood Score: \u001b[1;36m-70\u001b[0m\n"
      ]
     },
     "metadata": {},
     "output_type": "display_data"
    },
    {
     "data": {
      "text/html": [
       "<pre style=\"white-space:pre;overflow-x:auto;line-height:normal;font-family:Menlo,'DejaVu Sans Mono',consolas,'Courier New',monospace\">Today's average mood score: <span style=\"color: #008080; text-decoration-color: #008080; font-weight: bold\">-10.00</span> — Your mood appears low. Consider self-care or seeking support.\n",
       "\n",
       "</pre>\n"
      ],
      "text/plain": [
       "Today's average mood score: \u001b[1;36m-10.00\u001b[0m — Your mood appears low. Consider self-care or seeking support.\n",
       "\n"
      ]
     },
     "metadata": {},
     "output_type": "display_data"
    },
    {
     "data": {
      "text/html": [
       "<pre style=\"white-space:pre;overflow-x:auto;line-height:normal;font-family:Menlo,'DejaVu Sans Mono',consolas,'Courier New',monospace\">\n",
       "<span style=\"color: #808000; text-decoration-color: #808000; font-weight: bold\">Entry added.</span> Emotion: <span style=\"color: #008000; text-decoration-color: #008000\">fear</span>, Mood Score: <span style=\"color: #008080; text-decoration-color: #008080; font-weight: bold\">-60</span>\n",
       "</pre>\n"
      ],
      "text/plain": [
       "\n",
       "\u001b[1;33mEntry added.\u001b[0m Emotion: \u001b[32mfear\u001b[0m, Mood Score: \u001b[1;36m-60\u001b[0m\n"
      ]
     },
     "metadata": {},
     "output_type": "display_data"
    },
    {
     "data": {
      "text/html": [
       "<pre style=\"white-space:pre;overflow-x:auto;line-height:normal;font-family:Menlo,'DejaVu Sans Mono',consolas,'Courier New',monospace\">Today's average mood score: <span style=\"color: #008080; text-decoration-color: #008080; font-weight: bold\">-15.56</span> — Your mood appears low. Consider self-care or seeking support.\n",
       "\n",
       "</pre>\n"
      ],
      "text/plain": [
       "Today's average mood score: \u001b[1;36m-15.56\u001b[0m — Your mood appears low. Consider self-care or seeking support.\n",
       "\n"
      ]
     },
     "metadata": {},
     "output_type": "display_data"
    },
    {
     "data": {
      "text/html": [
       "<pre style=\"white-space:pre;overflow-x:auto;line-height:normal;font-family:Menlo,'DejaVu Sans Mono',consolas,'Courier New',monospace\">\n",
       "<span style=\"color: #808000; text-decoration-color: #808000; font-weight: bold\">Entry added.</span> Emotion: <span style=\"color: #008000; text-decoration-color: #008000\">fear</span>, Mood Score: <span style=\"color: #008080; text-decoration-color: #008080; font-weight: bold\">-60</span>\n",
       "</pre>\n"
      ],
      "text/plain": [
       "\n",
       "\u001b[1;33mEntry added.\u001b[0m Emotion: \u001b[32mfear\u001b[0m, Mood Score: \u001b[1;36m-60\u001b[0m\n"
      ]
     },
     "metadata": {},
     "output_type": "display_data"
    },
    {
     "data": {
      "text/html": [
       "<pre style=\"white-space:pre;overflow-x:auto;line-height:normal;font-family:Menlo,'DejaVu Sans Mono',consolas,'Courier New',monospace\">Today's average mood score: <span style=\"color: #008080; text-decoration-color: #008080; font-weight: bold\">-20.00</span> — Your mood appears low. Consider self-care or seeking support.\n",
       "\n",
       "</pre>\n"
      ],
      "text/plain": [
       "Today's average mood score: \u001b[1;36m-20.00\u001b[0m — Your mood appears low. Consider self-care or seeking support.\n",
       "\n"
      ]
     },
     "metadata": {},
     "output_type": "display_data"
    },
    {
     "data": {
      "image/png": "[encoded data removed]",
      "text/plain": [
       "<Figure size 1000x500 with 1 Axes>"
      ]
     },
     "metadata": {},
     "output_type": "display_data"
    },
    {
     "data": {
      "text/html": [
       "<pre style=\"white-space:pre;overflow-x:auto;line-height:normal;font-family:Menlo,'DejaVu Sans Mono',consolas,'Courier New',monospace\"><span style=\"font-style: italic\">                                               Journal Entries                                               </span>\n",
       "                             ╷         ╷            ╷                                                        \n",
       " <span style=\"font-weight: bold\"> Date &amp; Time                </span>│<span style=\"font-weight: bold\"> Emotion </span>│<span style=\"font-weight: bold\"> Mood Score </span>│<span style=\"font-weight: bold\"> Entry Snippet                                         </span> \n",
       " ════════════════════════════╪═════════╪════════════╪═══════════════════════════════════════════════════════ \n",
       " <span style=\"color: #7f7f7f; text-decoration-color: #7f7f7f\"> 2025-06-07 14:37:46.655074 </span>│<span style=\"color: #008000; text-decoration-color: #008000\"> joy     </span>│         80 │<span style=\"color: #008080; text-decoration-color: #008080\"> The sunrise painted the sky in hues of pink and go... </span> \n",
       " <span style=\"color: #7f7f7f; text-decoration-color: #7f7f7f\"> 2025-06-07 14:37:56.598152 </span>│<span style=\"color: #008000; text-decoration-color: #008000\"> joy     </span>│         80 │<span style=\"color: #008080; text-decoration-color: #008080\"> The sunrise painted the sky in hues of pink and go... </span> \n",
       " <span style=\"color: #7f7f7f; text-decoration-color: #7f7f7f\"> 2025-06-07 14:38:16.308342 </span>│<span style=\"color: #008000; text-decoration-color: #008000\"> sadness </span>│        -70 │<span style=\"color: #008080; text-decoration-color: #008080\"> I found an old photo of my grandparents while clea... </span> \n",
       " <span style=\"color: #7f7f7f; text-decoration-color: #7f7f7f\"> 2025-06-07 14:38:24.890974 </span>│<span style=\"color: #008000; text-decoration-color: #008000\"> fear    </span>│        -60 │<span style=\"color: #008080; text-decoration-color: #008080\"> The rain tapped gently against the window, a sooth... </span> \n",
       " <span style=\"color: #7f7f7f; text-decoration-color: #7f7f7f\"> 2025-06-07 14:38:34.131588 </span>│<span style=\"color: #008000; text-decoration-color: #008000\"> fear    </span>│        -60 │<span style=\"color: #008080; text-decoration-color: #008080\"> It’s 2 AM, and my mind won’t shut off—what if I fa... </span> \n",
       " <span style=\"color: #7f7f7f; text-decoration-color: #7f7f7f\"> 2025-06-07 14:39:17.725859 </span>│<span style=\"color: #008000; text-decoration-color: #008000\"> joy     </span>│         80 │<span style=\"color: #008080; text-decoration-color: #008080\"> The sunrise painted the sky in hues of pink and go... </span> \n",
       " <span style=\"color: #7f7f7f; text-decoration-color: #7f7f7f\"> 2025-06-07 14:39:32.125895 </span>│<span style=\"color: #008000; text-decoration-color: #008000\"> fear    </span>│        -60 │<span style=\"color: #008080; text-decoration-color: #008080\"> My laptop froze again, erasing an hour’s worth of ... </span> \n",
       " <span style=\"color: #7f7f7f; text-decoration-color: #7f7f7f\"> 2025-06-07 14:39:42.797222 </span>│<span style=\"color: #008000; text-decoration-color: #008000\"> sadness </span>│        -70 │<span style=\"color: #008080; text-decoration-color: #008080\"> I found an old photo of my grandparents while clea... </span> \n",
       " <span style=\"color: #7f7f7f; text-decoration-color: #7f7f7f\"> 2025-06-07 14:39:52.615699 </span>│<span style=\"color: #008000; text-decoration-color: #008000\"> fear    </span>│        -60 │<span style=\"color: #008080; text-decoration-color: #008080\"> The rain tapped gently against the window, a sooth... </span> \n",
       " <span style=\"color: #7f7f7f; text-decoration-color: #7f7f7f\"> 2025-06-07 14:40:24.457755 </span>│<span style=\"color: #008000; text-decoration-color: #008000\"> fear    </span>│        -60 │<span style=\"color: #008080; text-decoration-color: #008080\"> It’s 2 AM, and my mind won’t shut off—what if I fa... </span> \n",
       "                             ╵         ╵            ╵                                                        \n",
       "</pre>\n"
      ],
      "text/plain": [
       "\u001b[3m                                               Journal Entries                                               \u001b[0m\n",
       "                             ╷         ╷            ╷                                                        \n",
       " \u001b[1m \u001b[0m\u001b[1mDate & Time               \u001b[0m\u001b[1m \u001b[0m│\u001b[1m \u001b[0m\u001b[1mEmotion\u001b[0m\u001b[1m \u001b[0m│\u001b[1m \u001b[0m\u001b[1mMood Score\u001b[0m\u001b[1m \u001b[0m│\u001b[1m \u001b[0m\u001b[1mEntry Snippet                                        \u001b[0m\u001b[1m \u001b[0m \n",
       " ════════════════════════════╪═════════╪════════════╪═══════════════════════════════════════════════════════ \n",
       " \u001b[2m \u001b[0m\u001b[2m2025-06-07 14:37:46.655074\u001b[0m\u001b[2m \u001b[0m│\u001b[32m \u001b[0m\u001b[32mjoy    \u001b[0m\u001b[32m \u001b[0m│         80 │\u001b[36m \u001b[0m\u001b[36mThe sunrise painted the sky in hues of pink and go...\u001b[0m\u001b[36m \u001b[0m \n",
       " \u001b[2m \u001b[0m\u001b[2m2025-06-07 14:37:56.598152\u001b[0m\u001b[2m \u001b[0m│\u001b[32m \u001b[0m\u001b[32mjoy    \u001b[0m\u001b[32m \u001b[0m│         80 │\u001b[36m \u001b[0m\u001b[36mThe sunrise painted the sky in hues of pink and go...\u001b[0m\u001b[36m \u001b[0m \n",
       " \u001b[2m \u001b[0m\u001b[2m2025-06-07 14:38:16.308342\u001b[0m\u001b[2m \u001b[0m│\u001b[32m \u001b[0m\u001b[32msadness\u001b[0m\u001b[32m \u001b[0m│        -70 │\u001b[36m \u001b[0m\u001b[36mI found an old photo of my grandparents while clea...\u001b[0m\u001b[36m \u001b[0m \n",
       " \u001b[2m \u001b[0m\u001b[2m2025-06-07 14:38:24.890974\u001b[0m\u001b[2m \u001b[0m│\u001b[32m \u001b[0m\u001b[32mfear   \u001b[0m\u001b[32m \u001b[0m│        -60 │\u001b[36m \u001b[0m\u001b[36mThe rain tapped gently against the window, a sooth...\u001b[0m\u001b[36m \u001b[0m \n",
       " \u001b[2m \u001b[0m\u001b[2m2025-06-07 14:38:34.131588\u001b[0m\u001b[2m \u001b[0m│\u001b[32m \u001b[0m\u001b[32mfear   \u001b[0m\u001b[32m \u001b[0m│        -60 │\u001b[36m \u001b[0m\u001b[36mIt’s 2 AM, and my mind won’t shut off—what if I fa...\u001b[0m\u001b[36m \u001b[0m \n",
       " \u001b[2m \u001b[0m\u001b[2m2025-06-07 14:39:17.725859\u001b[0m\u001b[2m \u001b[0m│\u001b[32m \u001b[0m\u001b[32mjoy    \u001b[0m\u001b[32m \u001b[0m│         80 │\u001b[36m \u001b[0m\u001b[36mThe sunrise painted the sky in hues of pink and go...\u001b[0m\u001b[36m \u001b[0m \n",
       " \u001b[2m \u001b[0m\u001b[2m2025-06-07 14:39:32.125895\u001b[0m\u001b[2m \u001b[0m│\u001b[32m \u001b[0m\u001b[32mfear   \u001b[0m\u001b[32m \u001b[0m│        -60 │\u001b[36m \u001b[0m\u001b[36mMy laptop froze again, erasing an hour’s worth of ...\u001b[0m\u001b[36m \u001b[0m \n",
       " \u001b[2m \u001b[0m\u001b[2m2025-06-07 14:39:42.797222\u001b[0m\u001b[2m \u001b[0m│\u001b[32m \u001b[0m\u001b[32msadness\u001b[0m\u001b[32m \u001b[0m│        -70 │\u001b[36m \u001b[0m\u001b[36mI found an old photo of my grandparents while clea...\u001b[0m\u001b[36m \u001b[0m \n",
       " \u001b[2m \u001b[0m\u001b[2m2025-06-07 14:39:52.615699\u001b[0m\u001b[2m \u001b[0m│\u001b[32m \u001b[0m\u001b[32mfear   \u001b[0m\u001b[32m \u001b[0m│        -60 │\u001b[36m \u001b[0m\u001b[36mThe rain tapped gently against the window, a sooth...\u001b[0m\u001b[36m \u001b[0m \n",
       " \u001b[2m \u001b[0m\u001b[2m2025-06-07 14:40:24.457755\u001b[0m\u001b[2m \u001b[0m│\u001b[32m \u001b[0m\u001b[32mfear   \u001b[0m\u001b[32m \u001b[0m│        -60 │\u001b[36m \u001b[0m\u001b[36mIt’s 2 AM, and my mind won’t shut off—what if I fa...\u001b[0m\u001b[36m \u001b[0m \n",
       "                             ╵         ╵            ╵                                                        \n"
      ]
     },
     "metadata": {},
     "output_type": "display_data"
    }
   ],
   "source": [
    "# Start journal loop\n",
    "while True:\n",
    "    entry = input(\"Write your journal entry (or type 'exit', 'plot', or 'view'):\\n\")\n",
    "    if entry.lower() == 'exit':\n",
    "        break\n",
    "    elif entry.lower() == 'plot':\n",
    "        plot_mood_trend()\n",
    "        continue\n",
    "    elif entry.lower() == 'view':\n",
    "        view_entries()\n",
    "        continue\n",
    "    add_journal_entry(entry)"
   ]
  }
 ],
 "metadata": {
  "kernelspec": {
   "display_name": "Python 3",
   "language": "python",
   "name": "python3"
  },
  "language_info": {
   "codemirror_mode": {
    "name": "ipython",
    "version": 3
   },
   "file_extension": ".py",
   "mimetype": "text/x-python",
   "name": "python",
   "nbconvert_exporter": "python",
   "pygments_lexer": "ipython3",
   "version": "3.10.0"
  }
 },
 "nbformat": 4,
 "nbformat_minor": 5
}
